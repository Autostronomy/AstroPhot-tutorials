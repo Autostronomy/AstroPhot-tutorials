{
 "cells": [
  {
   "cell_type": "markdown",
   "metadata": {},
   "source": [
    "# Roman SN Simulation modeling with AstroPhot\n",
    "\n",
    "Use AstroPhot package to model ightcurve of SN in Roman simulations."
   ]
  },
  {
   "cell_type": "code",
   "execution_count": null,
   "metadata": {},
   "outputs": [],
   "source": [
    "import os\n",
    "import matplotlib.pyplot as plt\n",
    "import numpy as np\n",
    "from scipy.stats import iqr\n",
    "\n",
    "import torch\n",
    "\n",
    "import astropy.units as u\n",
    "from astropy.coordinates import SkyCoord\n",
    "from astropy.io import fits\n",
    "from astropy.table import Table\n",
    "from astropy.wcs import WCS\n",
    "\n",
    "import astrophot as ap\n",
    "from astrophot.image.window_object import Window"
   ]
  },
  {
   "cell_type": "markdown",
   "metadata": {},
   "source": [
    "Data.  We'll be using data from Roman simulations of SN in \n",
    "\"A synthetic Roman Space Telescope High-Latitude Time-Domain Survey: supernovae in the deep field\"\n",
    "Wang et al. 2023, MNRAS, 523, 3, 3874.\n",
    "https://ui.adsabs.harvard.edu/abs/2023MNRAS.523.3874W\n",
    "\n",
    "Data page\n",
    "https://roman.ipac.caltech.edu/sims/SN_Survey_Image_sim.html\n",
    "\n",
    "We're here trying out 3 images selected by Lauren Aldoroty that have a SN.  You could download them here with the following bash script: \n",
    "\n",
    "Note that this scripts work, but gets you much more data than we needed. The three images are 1.3 GB each, covering the 18 detectors for the Roman WFI instrument.  We only need one, but the tarballs are for the full focal plane.  The rotate_Y_truth catalog is 288 MB.  The remaining catalog files are much smaller.\n",
    "\n",
    "```\n",
    "DATADIR=data\n",
    "mkdir -p ${DATADIR}\n",
    "curl \"https://roman.ipac.caltech.edu/data/sims/sn_image_sims/rotate_update_Y106_132.tar.gz\" --output ${DATADIR}/rotate_update_Y106_132.tar.gz\n",
    "curl \"https://roman.ipac.caltech.edu/data/sims/sn_image_sims/rotate_update_Y106_174.tar.gz\" --output ${DATADIR}/rotate_update_Y106_174.tar.gz\n",
    "curl \"https://roman.ipac.caltech.edu/data/sims/sn_image_sims/rotate_update_Y106_175.tar.gz\" --output ${DATADIR}/rotate_update_Y106_175.tar.gz\n",
    "\n",
    "# SN input catalog / SN\n",
    "curl https://roman.ipac.caltech.edu/data/sims/sn_image_sims/WFIRST_AKARI_FIXED_HEAD.FITS --output ${DATADIR}/WFIRST_AKARI_FIXED_HEAD.FITS\n",
    "\n",
    "# SN input lightcurves\n",
    "curl https://roman.ipac.caltech.edu/data/sims/sn_image_sims/WFIRST_AKARI_FIXED_PHOT.FITS.gz --output ${DATADIR}/WFIRST_AKARI_FIXED_PHOT.FITS.gz\n",
    "\n",
    "# SN truth\n",
    "curl https://roman.ipac.caltech.edu/data/sims/sn_image_sims/rotate_Y_truth.tar.gz --output ${DATADIR}/rotate_Y_truth.tar.gz\n",
    "\n",
    "# Image Metadata\n",
    "curl https://roman.ipac.caltech.edu/data/sims/sn_image_sims/paper_rotate.fits --output ${DATADIR}/paper_rotate.fits\n",
    "\n",
    "cd data; (for f in rotate_update_Y106_*.tar.gz; do tar xvzf $f \"*_1.fits.gz\"; done); gunzip *.fits.gz; cd -\n",
    "```\n"
   ]
  },
  {
   "cell_type": "code",
   "execution_count": null,
   "metadata": {},
   "outputs": [],
   "source": [
    "sn = {\"ra\": 71.30192566051916, \"dec\": -53.60051728973533}\n",
    "sn_coord = SkyCoord(sn[\"ra\"], sn[\"dec\"], unit=u.deg)\n",
    "\n",
    "band = \"Y106\"\n",
    "detector = 1\n",
    "\n",
    "data_dir = \"data\"\n",
    "# The metadata for the files is stored by row idx that is encoded in the filename\n",
    "# We'll use that later to look up the informatino for the file.\n",
    "image_info_row = [132, 174, 175]\n",
    "image_file_basenames = [f\"rotate_update_{band}_{idx}_{detector}.fits\" for idx in image_info_row]\n",
    "\n",
    "image_files = [os.path.join(data_dir, bn) for bn in image_file_basenames]"
   ]
  },
  {
   "cell_type": "code",
   "execution_count": null,
   "metadata": {},
   "outputs": [],
   "source": [
    "sn_metadata_basename = \"WFIRST_AKARI_FIXED_HEAD.FITS\"\n",
    "sn_metadata_filename = os.path.join(data_dir, sn_metadata_basename)\n",
    "sn_metadata = Table.read(sn_metadata_filename)"
   ]
  },
  {
   "cell_type": "code",
   "execution_count": null,
   "metadata": {},
   "outputs": [],
   "source": [
    "# Write out RA, DEc to prepare for making a ds9 region file.\n",
    "def write_ds9_region_file(\n",
    "    coordinate_table, region_filename=\"ds9.reg\", ra_colname=\"RA\", dec_colname=\"DEC\"\n",
    "):\n",
    "    region_filename = \"sn.reg\"\n",
    "    with open(region_filename, \"w\") as f:\n",
    "        f.write(\"wcs; icrs;\\n\")\n",
    "        for r, d in coordinate_table[[ra_colname, dec_colname]]:\n",
    "            f.write(f\"point({r},{d});\\n\")"
   ]
  },
  {
   "cell_type": "code",
   "execution_count": null,
   "metadata": {},
   "outputs": [],
   "source": [
    "overwrite = False\n",
    "if overwrite:\n",
    "    write_ds9_region_file(coordinate_table=sn_metadata, region_filename=\"sn.reg\")"
   ]
  },
  {
   "cell_type": "markdown",
   "metadata": {},
   "source": [
    "If you like you can open up the FITS files and the region file with\n",
    "```\n",
    "ds9 data/rotate_update_Y106_132_1.fits data/rotate_update_Y106_174_1.fits data/rotate_update_Y106_175_1.fits -region load all sn.reg -scale mode zscale -scale match -frame lock wcs -zoom to fit\n",
    "```"
   ]
  },
  {
   "cell_type": "markdown",
   "metadata": {},
   "source": [
    "The images don't have dates in the header, so we get them from `paper_rotate.fits`"
   ]
  },
  {
   "cell_type": "code",
   "execution_count": null,
   "metadata": {},
   "outputs": [],
   "source": [
    "image_metadata_basename = \"paper_rotate.fits\"\n",
    "image_metadata_filename = os.path.join(data_dir, image_metadata_basename)\n",
    "image_metadata = Table.read(image_metadata_filename)"
   ]
  },
  {
   "cell_type": "code",
   "execution_count": null,
   "metadata": {},
   "outputs": [],
   "source": [
    "image_metadata[image_info_row]"
   ]
  },
  {
   "cell_type": "code",
   "execution_count": null,
   "metadata": {},
   "outputs": [],
   "source": [
    "img0 = fits.open(image_files[0])\n",
    "wcs0 = WCS(img0[1].header)\n",
    "print(wcs0)\n",
    "print(wcs0.pixel_scale_matrix)\n",
    "print(np.linalg.det(wcs0.pixel_scale_matrix))"
   ]
  },
  {
   "cell_type": "code",
   "execution_count": null,
   "metadata": {},
   "outputs": [],
   "source": [
    "# These are 4k x 4k images\n",
    "pixel_scale = 0.11  # \"/pixel\n",
    "fwhm = 0.2  # \"\n",
    "\n",
    "\n",
    "def make_target(\n",
    "    image_filepath,\n",
    "    coord: SkyCoord = None,\n",
    "    window_size: float = 5,\n",
    "    fwhm: float = fwhm,\n",
    "    psf_size: int = 51,\n",
    "    pixel_scale: float = pixel_scale,\n",
    "    pixel_shape: int = (100, 100),\n",
    "    zeropoint: float = 22.5,\n",
    "    image_hdu_idx: int = 1,\n",
    "    variance_hdu_idx: int = 2,\n",
    "    mask_hdu_idx: int = 3,\n",
    "):\n",
    "    \"\"\"Make an AstroPhot target.\n",
    "\n",
    "    image_filepath: str, Filepath to image file.\n",
    "        Image file assumed to have [image, mask, variance].\n",
    "        WCS assumed to be present in image HDU header\n",
    "\n",
    "    coord: SkyCoord object with center of window\n",
    "    fwhm: float, Full-Width at Half-Maximum in arcsec\n",
    "    psf_size: float, width of the PSF\n",
    "    pixel_scale: float, \"/pix\n",
    "       This is used along with fwhm, psf_size to set a Gaussian PSF model\n",
    "       Would be better to have an actual PSF model from the image\n",
    "    pixel_shape: (int, int), pix\n",
    "    zeropoint: float, calibration of counts in image.\n",
    "    \"\"\"\n",
    "    hdu = fits.open(image_filepath)\n",
    "    img = hdu[image_hdu_idx].data  # Image HDU\n",
    "    # But need to translate the informative mask with a bad-pixel mask.\n",
    "    # E.g., one of the mask values is that that pixel is part of a footprint of a valid object\n",
    "    # We don't want to mask those!\n",
    "    var = hdu[variance_hdu_idx].data  # Variance HDU\n",
    "    mask = hdu[mask_hdu_idx].data  # Mask\n",
    "    nx, ny = np.shape(img)\n",
    "\n",
    "    # we construct a basic gaussian psf for each image\n",
    "    # by giving the simga (arcsec), image width (pixels), and pixelscale (arcsec/pixel)\n",
    "    psf = ap.utils.initialize.gaussian_psf(fwhm / 2.355, psf_size, pixel_scale)\n",
    "    wcs = WCS(hdu[image_hdu_idx].header)\n",
    "\n",
    "    if coord is not None:\n",
    "        target = ap.image.Target_Image(\n",
    "            data=np.array(img, dtype=np.float64),\n",
    "            variance=var,\n",
    "            zeropoint=22.5,\n",
    "            psf=psf,\n",
    "            wcs=wcs,\n",
    "            reference_radec=(coord.ra.degree, coord.dec.degree),\n",
    "        )\n",
    "        \n",
    "    else:\n",
    "        target = ap.image.Target_Image(\n",
    "            data=np.array(img, dtype=np.float64),\n",
    "            variance=var,\n",
    "            zeropoint=22.5,\n",
    "            psf=psf,\n",
    "            wcs=wcs,\n",
    "        )\n",
    "\n",
    "    return target"
   ]
  },
  {
   "cell_type": "code",
   "execution_count": null,
   "metadata": {},
   "outputs": [],
   "source": [
    "target_0 = make_target(image_files[0], coord=sn_coord)"
   ]
  },
  {
   "cell_type": "code",
   "execution_count": null,
   "metadata": {},
   "outputs": [],
   "source": [
    "target_0.window"
   ]
  },
  {
   "cell_type": "code",
   "execution_count": null,
   "metadata": {},
   "outputs": [],
   "source": [
    "target_1 = make_target(image_files[1], coord=sn_coord)"
   ]
  },
  {
   "cell_type": "code",
   "execution_count": null,
   "metadata": {},
   "outputs": [],
   "source": [
    "target_1.window"
   ]
  },
  {
   "cell_type": "markdown",
   "metadata": {},
   "source": [
    "Plot just the area of interest"
   ]
  },
  {
   "cell_type": "code",
   "execution_count": null,
   "metadata": {},
   "outputs": [],
   "source": [
    "coord = (sn_coord.ra.degree, sn_coord.dec.degree)\n",
    "npix = 100\n",
    "pixel_shape = (npix, npix)"
   ]
  },
  {
   "cell_type": "code",
   "execution_count": null,
   "metadata": {},
   "outputs": [],
   "source": [
    "center_xy = target_0.window.world_to_pixel(sn[\"ra\"], sn[\"dec\"])\n",
    "print(center_xy)"
   ]
  },
  {
   "cell_type": "code",
   "execution_count": null,
   "metadata": {},
   "outputs": [],
   "source": [
    "def make_window_for_target(target, ra, dec, npix=100):\n",
    "    window = target.window.copy()\n",
    "    center_xy = window.world_to_pixel(ra, dec)\n",
    "\n",
    "    xmin = center_xy[0] - npix // 2\n",
    "    xmax = center_xy[0] + npix // 2\n",
    "    ymin = center_xy[1] - npix // 2\n",
    "    ymax = center_xy[1] + npix // 2\n",
    "\n",
    "    window.crop_to_pixel([[xmin, xmax], [ymin, ymax]])\n",
    "    return window"
   ]
  },
  {
   "cell_type": "code",
   "execution_count": null,
   "metadata": {},
   "outputs": [],
   "source": [
    "print(repr(target_0.window))"
   ]
  },
  {
   "cell_type": "code",
   "execution_count": null,
   "metadata": {},
   "outputs": [],
   "source": [
    "make_window_for_target(target_0, sn[\"ra\"], sn[\"dec\"])"
   ]
  },
  {
   "cell_type": "code",
   "execution_count": null,
   "metadata": {},
   "outputs": [],
   "source": [
    "window0 = make_window_for_target(target_0, sn[\"ra\"], sn[\"dec\"])\n",
    "window1 = make_window_for_target(target_1, sn[\"ra\"], sn[\"dec\"])"
   ]
  },
  {
   "cell_type": "code",
   "execution_count": null,
   "metadata": {
    "scrolled": false
   },
   "outputs": [],
   "source": [
    "fig1, ax1 = plt.subplots(1, 2, figsize=(12, 6))\n",
    "ap.plots.target_image(fig1, ax1[0], target_0, window=window0, flipx=True)\n",
    "ax1[0].set_title(image_file_basenames[0])\n",
    "ap.plots.target_image(fig1, ax1[1], target_1, window=window1, flipx=True)\n",
    "ax1[1].set_title(image_file_basenames[1])\n",
    "\n",
    "plt.show()"
   ]
  },
  {
   "cell_type": "markdown",
   "metadata": {},
   "source": [
    "The coordinate axes are in arcseconds, but in the local relative coordinate system for each image.  AstroPhot used the pixel scale to translate pixels -> arcsec."
   ]
  },
  {
   "cell_type": "code",
   "execution_count": null,
   "metadata": {},
   "outputs": [],
   "source": [
    "model_0 = ap.models.AstroPhot_Model(\n",
    "    name=\"host model\",\n",
    "    model_type=\"sersic galaxy model\",\n",
    "    target=target_0,\n",
    "    psf_mode=\"full\",\n",
    "    window=window0,\n",
    ")"
   ]
  },
  {
   "cell_type": "code",
   "execution_count": null,
   "metadata": {},
   "outputs": [],
   "source": [
    "sn_xy_1 = target_1.world_to_plane(sn[\"ra\"], sn[\"dec\"])\n",
    "host_xy_1 = sn_xy_1"
   ]
  },
  {
   "cell_type": "code",
   "execution_count": null,
   "metadata": {},
   "outputs": [],
   "source": [
    "target_0[window0].window"
   ]
  },
  {
   "cell_type": "code",
   "execution_count": null,
   "metadata": {},
   "outputs": [],
   "source": [
    "target_1[window1].window"
   ]
  },
  {
   "cell_type": "code",
   "execution_count": null,
   "metadata": {},
   "outputs": [],
   "source": [
    "print(model_0.parameters[\"center\"])"
   ]
  },
  {
   "cell_type": "markdown",
   "metadata": {},
   "source": [
    "We have to initialize the model so that there is a value for `parameters[\"center\"]`"
   ]
  },
  {
   "cell_type": "code",
   "execution_count": null,
   "metadata": {},
   "outputs": [],
   "source": [
    "model_0.initialize()"
   ]
  },
  {
   "cell_type": "code",
   "execution_count": null,
   "metadata": {
    "scrolled": true
   },
   "outputs": [],
   "source": [
    "print(model_0.parameters[\"center\"])"
   ]
  },
  {
   "cell_type": "code",
   "execution_count": null,
   "metadata": {},
   "outputs": [],
   "source": [
    "print(model_0.parameters)"
   ]
  },
  {
   "cell_type": "code",
   "execution_count": null,
   "metadata": {
    "scrolled": false
   },
   "outputs": [],
   "source": [
    "result = ap.fit.LM(model_0, verbose=True).fit()\n",
    "print(result.message)"
   ]
  },
  {
   "cell_type": "code",
   "execution_count": null,
   "metadata": {},
   "outputs": [],
   "source": [
    "print(model_0.parameters)"
   ]
  },
  {
   "cell_type": "code",
   "execution_count": null,
   "metadata": {},
   "outputs": [],
   "source": [
    "# We divide up because \"model_image\" expects a single axis object if single image\n",
    "# while it wants an array of axis objects if there are multiple images in the image list\n",
    "# model_image will not accept a one-element array if there is no image_list\n",
    "def plot_target_model(model, **kwargs):\n",
    "    if hasattr(model.target, \"image_list\"):\n",
    "        _plot_target_model_multiple(model, **kwargs)\n",
    "    else:\n",
    "        _plot_target_model_single(model, **kwargs)\n",
    "\n",
    "\n",
    "def _plot_target_model_multiple(model, window=None, title=None, figsize=(12, 12)):\n",
    "    n = len(model.target.image_list)\n",
    "    fig, ax = plt.subplots(n, 3, figsize=figsize)\n",
    "    ap.plots.target_image(fig, ax[:, 0], model.target, window=window, flipx=True)\n",
    "    #    ax[0].set_title(title)\n",
    "    ap.plots.model_image(fig, ax[:, 1], model, window=window, flipx=True)\n",
    "    ax[0, 1].set_title(\"Model\")\n",
    "    ap.plots.residual_image(fig, ax[:, 2], model, window=window, flipx=True)\n",
    "    ax[0, 2].set_title(\"Residual\")\n",
    "    plt.show()\n",
    "\n",
    "\n",
    "def _plot_target_model_single(target, model, window=None, title=None, figsize=(16, 4)):\n",
    "    fig, ax = plt.subplots(1, 3, figsize=figsize)\n",
    "    ap.plots.model_image(fig, ax[0], model, window=window, flipx=True)\n",
    "    ax[0].set_title(\"Model\")\n",
    "    ap.plots.target_image(fig, ax[1], target, window=window, flipx=True)\n",
    "    ax[1].set_title(title)\n",
    "    ap.plots.residual_image(fig, ax[2], model, window=window, flipx=True)\n",
    "    ax[2].set_title(\"Residual\")\n",
    "    plt.show()"
   ]
  },
  {
   "cell_type": "code",
   "execution_count": null,
   "metadata": {
    "scrolled": false
   },
   "outputs": [],
   "source": [
    "plot_target_model(target_0, model_0, window=window0)"
   ]
  },
  {
   "cell_type": "code",
   "execution_count": null,
   "metadata": {},
   "outputs": [],
   "source": [
    "model_host_0 = ap.models.AstroPhot_Model(\n",
    "    name=\"host model 0\",\n",
    "    model_type=\"sersic galaxy model\",\n",
    "    target=target_0,\n",
    "    psf_mode=\"full\",\n",
    "    parameters = {\"center\": host_xy_1},\n",
    "    window=window0,\n",
    ")\n",
    "model_sn_0 = ap.models.AstroPhot_Model(\n",
    "    name=\"SN model 0\",\n",
    "    model_type=\"psf star model\",\n",
    "    target=target_0,\n",
    "    psf_mode=\"full\",\n",
    "    parameters = {\"center\": sn_xy_1},\n",
    "    window=window0,\n",
    ")\n",
    "\n",
    "model_host_sn_0 = ap.models.AstroPhot_Model(\n",
    "    name=\"Host+SN\",\n",
    "    model_type=\"group model\",\n",
    "    models=[model_host_0, model_sn_0],\n",
    "    target=target_0,\n",
    ")"
   ]
  },
  {
   "cell_type": "code",
   "execution_count": null,
   "metadata": {},
   "outputs": [],
   "source": [
    "model_host_sn_0.initialize()"
   ]
  },
  {
   "cell_type": "code",
   "execution_count": null,
   "metadata": {
    "scrolled": false
   },
   "outputs": [],
   "source": [
    "result = ap.fit.LM(model_host_sn_0, verbose=True).fit()\n",
    "print(result.message)"
   ]
  },
  {
   "cell_type": "code",
   "execution_count": null,
   "metadata": {},
   "outputs": [],
   "source": [
    "print(model_host_sn_0.parameters)"
   ]
  },
  {
   "cell_type": "code",
   "execution_count": null,
   "metadata": {},
   "outputs": [],
   "source": [
    "plot_target_model(target_0, model_host_sn_0, window=window0, title=image_file_basenames[0])"
   ]
  },
  {
   "cell_type": "markdown",
   "metadata": {},
   "source": [
    "Now jointly fit model across images"
   ]
  },
  {
   "cell_type": "code",
   "execution_count": null,
   "metadata": {},
   "outputs": [],
   "source": [
    "model_host_0 = ap.models.AstroPhot_Model(\n",
    "    name=\"host model 0\",\n",
    "    model_type=\"sersic galaxy model\",\n",
    "    target=target_0,\n",
    "    psf_mode=\"full\",\n",
    "    parameters = {\"center\": host_xy_1},\n",
    "    window=window0,\n",
    ")\n",
    "model_sn_0 = ap.models.AstroPhot_Model(\n",
    "    name=\"SN model 0\",\n",
    "    model_type=\"psf star model\",\n",
    "    target=target_0,\n",
    "    psf_mode=\"full\",\n",
    "    parameters = {\"center\": sn_xy_1},\n",
    "    window=window0,\n",
    ")\n",
    "model_host_1 = ap.models.AstroPhot_Model(\n",
    "    name=\"host model 1\",\n",
    "    model_type=\"sersic galaxy model\",\n",
    "    target=target_1,\n",
    "    psf_mode=\"full\",\n",
    "    parameters = {\"center\": host_xy_1},\n",
    "    window=window1,\n",
    ")\n",
    "model_sn_1 = ap.models.AstroPhot_Model(\n",
    "    name=\"SN model 1\",\n",
    "    model_type=\"psf star model\",\n",
    "    target=target_1,\n",
    "    psf_mode=\"full\",\n",
    "    parameters = {\"center\": sn_xy_1},\n",
    "    window=window1,\n",
    ")"
   ]
  },
  {
   "cell_type": "code",
   "execution_count": null,
   "metadata": {},
   "outputs": [],
   "source": [
    "model_host_1.add_equality_constraint(model_host_0, [\"center\", \"q\", \"PA\", \"n\", \"Re\", \"Ie\"])\n",
    "model_sn_1.add_equality_constraint(model_sn_1, [\"center\"])"
   ]
  },
  {
   "cell_type": "code",
   "execution_count": null,
   "metadata": {},
   "outputs": [],
   "source": [
    "model_host_sn_0_1 = ap.models.AstroPhot_Model(\n",
    "    name=\"Host+SN\",\n",
    "    model_type=\"group model\",\n",
    "    models=[model_host_0, model_host_1, model_sn_0, model_sn_1],\n",
    "    target=ap.image.Target_Image_List((target_0, target_1))\n",
    ")"
   ]
  },
  {
   "cell_type": "code",
   "execution_count": null,
   "metadata": {},
   "outputs": [],
   "source": [
    "model_host_sn_0_1.initialize()"
   ]
  },
  {
   "cell_type": "code",
   "execution_count": null,
   "metadata": {
    "scrolled": false
   },
   "outputs": [],
   "source": [
    "result = ap.fit.LM(model_host_sn_0_1, verbose=True).fit()\n",
    "print(result.message)"
   ]
  },
  {
   "cell_type": "code",
   "execution_count": null,
   "metadata": {},
   "outputs": [],
   "source": [
    "print(model_host_sn_0_1.parameters)"
   ]
  },
  {
   "cell_type": "code",
   "execution_count": null,
   "metadata": {},
   "outputs": [],
   "source": [
    "plot_target_model(\n",
    "    model_host_sn_0_1,\n",
    "    window=[window0, window1],\n",
    "    title=image_file_basenames[0],\n",
    "    figsize=(12, 8),\n",
    ")"
   ]
  },
  {
   "cell_type": "code",
   "execution_count": null,
   "metadata": {},
   "outputs": [],
   "source": []
  }
 ],
 "metadata": {
  "kernelspec": {
   "display_name": "Python 3 (ipykernel)",
   "language": "python",
   "name": "python3"
  },
  "language_info": {
   "codemirror_mode": {
    "name": "ipython",
    "version": 3
   },
   "file_extension": ".py",
   "mimetype": "text/x-python",
   "name": "python",
   "nbconvert_exporter": "python",
   "pygments_lexer": "ipython3",
   "version": "3.11.3"
  }
 },
 "nbformat": 4,
 "nbformat_minor": 4
}
